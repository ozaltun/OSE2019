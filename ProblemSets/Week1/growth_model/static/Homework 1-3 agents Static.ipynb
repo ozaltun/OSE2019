{
 "cells": [
  {
   "cell_type": "code",
   "execution_count": 1,
   "metadata": {
    "collapsed": false
   },
   "outputs": [],
   "source": [
    "import os\n",
    "os.environ[\"Method\"] = \"static\"\n",
    "import nonlinear_solver_initial as solver     #solves opt. problems for terminal VF\n",
    "import nonlinear_solver_iterate as solviter   #solves opt. problems during VFI\n",
    "import interpolation as interpol              #interface to sparse grid library/terminal VF\n",
    "import interpolation_iter as interpol_iter    #interface to sparse grid library/iteration\n",
    "import postprocessing as post                 #computes the L2 and Linfinity error of the model\n",
    "from parameters import *\n",
    "import TasmanianSG                            #sparse grid library\n",
    "import numpy as np\n",
    "import matplotlib.pyplot as plt\n",
    "from matplotlib.animation import FuncAnimation\n",
    "from mpl_toolkits.mplot3d import Axes3D\n",
    "from IPython.display import HTML"
   ]
  },
  {
   "cell_type": "code",
   "execution_count": 2,
   "metadata": {
    "collapsed": false
   },
   "outputs": [],
   "source": [
    "def main():\n",
    "    valnew_dict = dict()\n",
    "    # terminal value function\n",
    "    valnew=TasmanianSG.TasmanianSparseGrid()\n",
    "    if (numstart==0):\n",
    "        valnew=interpol.sparse_grid(n_agents, iDepth)\n",
    "        valnew_dict[numstart] = valnew\n",
    "        valnew.write(\"valnew_1.\" + str(numstart) + \".txt\") #write file to disk for restart\n",
    "\n",
    "    # value function during iteration\n",
    "    else:\n",
    "        valnew_dict[numstart] = valnew\n",
    "        valnew.read(\"valnew_1.\" + str(numstart) + \".txt\")  #write file to disk for restart\n",
    "\n",
    "    valold=TasmanianSG.TasmanianSparseGrid()\n",
    "    valold=valnew\n",
    "\n",
    "    for i in range(numstart, numits):\n",
    "        valnew=TasmanianSG.TasmanianSparseGrid()\n",
    "        valnew=interpol_iter.sparse_grid_iter(n_agents, iDepth, valold)\n",
    "        valold=TasmanianSG.TasmanianSparseGrid()\n",
    "        valold=valnew\n",
    "        valnew_dict[i+1] = valnew\n",
    "        valnew.write(\"valnew_1.\" + str(i+1) + \".txt\")\n",
    "\n",
    "    #======================================================================\n",
    "    print( \"===============================================================\")\n",
    "    print( \" \" )\n",
    "    print( \" Computation of a growth model of dimension \", n_agents ,\" finished after \", numits, \" steps\")\n",
    "    print( \" \" )\n",
    "    print( \"===============================================================\")\n",
    "    #======================================================================\n",
    "\n",
    "    # compute errors   \n",
    "    avg_err=post.ls_error(n_agents, numstart, numits, No_samples)\n",
    "    \n",
    "    #======================================================================\n",
    "    print( \"===============================================================\")\n",
    "    print( \" \")\n",
    "    print( \" Errors are computed -- see errors.txt\")\n",
    "    print( \" \")\n",
    "    print( \"===============================================================\")\n",
    "    #======================================================================\n",
    "    return valnew_dict"
   ]
  },
  {
   "cell_type": "code",
   "execution_count": 3,
   "metadata": {
    "collapsed": false
   },
   "outputs": [
    {
     "name": "stdout",
     "output_type": "stream",
     "text": [
      "===============================================================\n",
      " \n",
      "(' Computation of a growth model of dimension ', 3, ' finished after ', 10, ' steps')\n",
      " \n",
      "===============================================================\n",
      "===============================================================\n",
      " \n",
      " Errors are computed -- see errors.txt\n",
      " \n",
      "===============================================================\n"
     ]
    }
   ],
   "source": [
    "valnew_dict = main()\n",
    "errors = np.loadtxt('errors.txt')"
   ]
  },
  {
   "cell_type": "code",
   "execution_count": 5,
   "metadata": {
    "collapsed": false
   },
   "outputs": [
    {
     "data": {
      "image/png": "[encoded data removed]",
      "text/plain": [
       "<Figure size 720x360 with 2 Axes>"
      ]
     },
     "metadata": {},
     "output_type": "display_data"
    }
   ],
   "source": [
    "def draw_plots(errors):\n",
    "    refinement = errors[:,0]\n",
    "    error_max = errors[:,1]\n",
    "    error_mean = errors[:,2]\n",
    "    \n",
    "    fig, ax = plt.subplots(1, 2, figsize=(10,5))\n",
    "    ax[0].scatter(refinement, error_max)\n",
    "    ax[0].set_xlabel('Refinement')\n",
    "    ax[0].set_ylabel('Max Error')\n",
    "    \n",
    "    ax[1].scatter(refinement, error_mean)\n",
    "    ax[1].set_xlabel('Refinement')\n",
    "    ax[1].set_ylabel('Mean Error')\n",
    "    \n",
    "    return fig, ax\n",
    "\n",
    "fig, ax = draw_plots(errors)\n",
    "plt.show()"
   ]
  },
  {
   "cell_type": "code",
   "execution_count": 7,
   "metadata": {
    "collapsed": true
   },
   "outputs": [],
   "source": [
    "plt.close()"
   ]
  },
  {
   "cell_type": "code",
   "execution_count": null,
   "metadata": {
    "collapsed": true
   },
   "outputs": [],
   "source": []
  }
 ],
 "metadata": {
  "kernelspec": {
   "display_name": "Python 2",
   "language": "python",
   "name": "python2"
  },
  "language_info": {
   "codemirror_mode": {
    "name": "ipython",
    "version": 2
   },
   "file_extension": ".py",
   "mimetype": "text/x-python",
   "name": "python",
   "nbconvert_exporter": "python",
   "pygments_lexer": "ipython2",
   "version": "2.7.12"
  }
 },
 "nbformat": 4,
 "nbformat_minor": 2
}
