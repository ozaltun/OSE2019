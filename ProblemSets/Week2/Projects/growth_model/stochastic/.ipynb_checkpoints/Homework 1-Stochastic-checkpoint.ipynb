{
 "cells": [
  {
   "cell_type": "code",
   "execution_count": 1,
   "metadata": {
    "collapsed": false
   },
   "outputs": [],
   "source": [
    "import os\n",
    "os.environ[\"Method\"] = \"stochastic\"\n",
    "import nonlinear_solver_initial as solver     #solves opt. problems for terminal VF\n",
    "import nonlinear_solver_iterate as solviter   #solves opt. problems during VFI\n",
    "import interpolation as interpol              #interface to sparse grid library/terminal VF\n",
    "import interpolation_iter as interpol_iter    #interface to sparse grid library/iteration\n",
    "import postprocessing as post\n",
    "import TasmanianSG                            #sparse grid library\n",
    "import numpy as np\n",
    "import matplotlib.pyplot as plt\n",
    "from matplotlib.animation import FuncAnimation\n",
    "from mpl_toolkits.mplot3d import Axes3D\n",
    "from IPython.display import HTML"
   ]
  },
  {
   "cell_type": "code",
   "execution_count": 2,
   "metadata": {
    "collapsed": false
   },
   "outputs": [
    {
     "name": "stderr",
     "output_type": "stream",
     "text": [
      "ERROR: found problem with llfX\n",
      "ERROR: llfX.shape[1] should equal 0 instead it equals 2\n"
     ]
    },
    {
     "name": "stdout",
     "output_type": "stream",
     "text": [
      "===============================================================\n",
      " \n",
      "(' Computation of a growth model of dimension ', 2, ' finished after ', 10, ' steps')\n",
      " \n",
      "===============================================================\n"
     ]
    },
    {
     "ename": "TasmanianInputError",
     "evalue": "",
     "output_type": "error",
     "traceback": [
      "\u001b[0;31m---------------------------------------------------------------------------\u001b[0m",
      "\u001b[0;31mTasmanianInputError\u001b[0m                       Traceback (most recent call last)",
      "\u001b[0;32m<ipython-input-2-524fab9f4eae>\u001b[0m in \u001b[0;36m<module>\u001b[0;34m()\u001b[0m\n\u001b[1;32m     89\u001b[0m \u001b[0;34m\u001b[0m\u001b[0m\n\u001b[1;32m     90\u001b[0m \u001b[0;31m# compute errors\u001b[0m\u001b[0;34m\u001b[0m\u001b[0;34m\u001b[0m\u001b[0m\n\u001b[0;32m---> 91\u001b[0;31m \u001b[0mavg_err\u001b[0m\u001b[0;34m=\u001b[0m\u001b[0mpost\u001b[0m\u001b[0;34m.\u001b[0m\u001b[0mls_error\u001b[0m\u001b[0;34m(\u001b[0m\u001b[0mparamL\u001b[0m\u001b[0;34m)\u001b[0m\u001b[0;34m\u001b[0m\u001b[0m\n\u001b[0m\u001b[1;32m     92\u001b[0m \u001b[0;34m\u001b[0m\u001b[0m\n\u001b[1;32m     93\u001b[0m \u001b[0;31m#======================================================================\u001b[0m\u001b[0;34m\u001b[0m\u001b[0;34m\u001b[0m\u001b[0m\n",
      "\u001b[0;32m/home/rccguest8452/GitHub/OSE2019/day1/SparseGridCode/growth_model/stochastic/postprocessing.py\u001b[0m in \u001b[0;36mls_error\u001b[0;34m(paramL)\u001b[0m\n\u001b[1;32m     56\u001b[0m             \u001b[0mv_next\u001b[0m\u001b[0;34m.\u001b[0m\u001b[0mread\u001b[0m\u001b[0;34m(\u001b[0m\u001b[0;34m\"valnew_1.\"\u001b[0m \u001b[0;34m+\u001b[0m \u001b[0mstr\u001b[0m\u001b[0;34m(\u001b[0m\u001b[0mi\u001b[0m\u001b[0;34m+\u001b[0m\u001b[0;36m1\u001b[0m\u001b[0;34m)\u001b[0m \u001b[0;34m+\u001b[0m\u001b[0;34m's{}'\u001b[0m\u001b[0;34m.\u001b[0m\u001b[0mformat\u001b[0m\u001b[0;34m(\u001b[0m\u001b[0mstate\u001b[0m\u001b[0;34m)\u001b[0m\u001b[0;34m+\u001b[0m \u001b[0;34m\".txt\"\u001b[0m\u001b[0;34m)\u001b[0m\u001b[0;34m\u001b[0m\u001b[0m\n\u001b[1;32m     57\u001b[0m \u001b[0;34m\u001b[0m\u001b[0m\n\u001b[0;32m---> 58\u001b[0;31m             \u001b[0mdiff\u001b[0m\u001b[0;34m=\u001b[0m\u001b[0mv_next\u001b[0m\u001b[0;34m.\u001b[0m\u001b[0mevaluateBatch\u001b[0m\u001b[0;34m(\u001b[0m\u001b[0mk_sample\u001b[0m\u001b[0;34m)\u001b[0m \u001b[0;34m-\u001b[0m \u001b[0mv_prev\u001b[0m\u001b[0;34m.\u001b[0m\u001b[0mevaluateBatch\u001b[0m\u001b[0;34m(\u001b[0m\u001b[0mk_sample\u001b[0m\u001b[0;34m)\u001b[0m\u001b[0;34m\u001b[0m\u001b[0m\n\u001b[0m\u001b[1;32m     59\u001b[0m             \u001b[0mmax_abs_diff\u001b[0m\u001b[0;34m=\u001b[0m\u001b[0mnp\u001b[0m\u001b[0;34m.\u001b[0m\u001b[0mamax\u001b[0m\u001b[0;34m(\u001b[0m\u001b[0mnp\u001b[0m\u001b[0;34m.\u001b[0m\u001b[0mfabs\u001b[0m\u001b[0;34m(\u001b[0m\u001b[0mdiff\u001b[0m\u001b[0;34m)\u001b[0m\u001b[0;34m)\u001b[0m\u001b[0;34m\u001b[0m\u001b[0m\n\u001b[1;32m     60\u001b[0m             \u001b[0maverage\u001b[0m \u001b[0;34m=\u001b[0m \u001b[0mnp\u001b[0m\u001b[0;34m.\u001b[0m\u001b[0maverage\u001b[0m\u001b[0;34m(\u001b[0m\u001b[0mnp\u001b[0m\u001b[0;34m.\u001b[0m\u001b[0mfabs\u001b[0m\u001b[0;34m(\u001b[0m\u001b[0mdiff\u001b[0m\u001b[0;34m)\u001b[0m\u001b[0;34m)\u001b[0m\u001b[0;34m\u001b[0m\u001b[0m\n",
      "\u001b[0;32m/home/rccguest8452/GitHub/OSE2019/day1/SparseGridCode/growth_model/stochastic/TasmanianSG.py\u001b[0m in \u001b[0;36mevaluateBatch\u001b[0;34m(self, llfX)\u001b[0m\n\u001b[1;32m    915\u001b[0m         \u001b[0miNumDim\u001b[0m \u001b[0;34m=\u001b[0m \u001b[0mllfX\u001b[0m\u001b[0;34m.\u001b[0m\u001b[0mshape\u001b[0m\u001b[0;34m[\u001b[0m\u001b[0;36m1\u001b[0m\u001b[0;34m]\u001b[0m\u001b[0;34m\u001b[0m\u001b[0m\n\u001b[1;32m    916\u001b[0m         \u001b[0;32mif\u001b[0m \u001b[0;34m(\u001b[0m\u001b[0miNumDim\u001b[0m \u001b[0;34m!=\u001b[0m \u001b[0mself\u001b[0m\u001b[0;34m.\u001b[0m\u001b[0mgetNumDimensions\u001b[0m\u001b[0;34m(\u001b[0m\u001b[0;34m)\u001b[0m\u001b[0;34m)\u001b[0m\u001b[0;34m:\u001b[0m\u001b[0;34m\u001b[0m\u001b[0m\n\u001b[0;32m--> 917\u001b[0;31m             \u001b[0;32mraise\u001b[0m \u001b[0mTasmanianInputError\u001b[0m\u001b[0;34m(\u001b[0m\u001b[0;34m\"llfX\"\u001b[0m\u001b[0;34m,\u001b[0m \u001b[0;34m\"ERROR: llfX.shape[1] should equal {0:1d} instead it equals {1:1d}\"\u001b[0m\u001b[0;34m.\u001b[0m\u001b[0mformat\u001b[0m\u001b[0;34m(\u001b[0m\u001b[0mself\u001b[0m\u001b[0;34m.\u001b[0m\u001b[0mgetNumDimensions\u001b[0m\u001b[0;34m(\u001b[0m\u001b[0;34m)\u001b[0m\u001b[0;34m,\u001b[0m \u001b[0miNumDim\u001b[0m\u001b[0;34m)\u001b[0m\u001b[0;34m)\u001b[0m\u001b[0;34m\u001b[0m\u001b[0m\n\u001b[0m\u001b[1;32m    918\u001b[0m         \u001b[0miNumDim\u001b[0m \u001b[0;34m=\u001b[0m \u001b[0mllfX\u001b[0m\u001b[0;34m.\u001b[0m\u001b[0mshape\u001b[0m\u001b[0;34m[\u001b[0m\u001b[0;36m1\u001b[0m\u001b[0;34m]\u001b[0m\u001b[0;34m\u001b[0m\u001b[0m\n\u001b[1;32m    919\u001b[0m         \u001b[0mpX\u001b[0m \u001b[0;34m=\u001b[0m \u001b[0;34m(\u001b[0m\u001b[0mc_double\u001b[0m\u001b[0;34m*\u001b[0m\u001b[0;34m(\u001b[0m\u001b[0miNumX\u001b[0m\u001b[0;34m*\u001b[0m\u001b[0miNumDim\u001b[0m\u001b[0;34m)\u001b[0m\u001b[0;34m)\u001b[0m\u001b[0;34m(\u001b[0m\u001b[0;34m)\u001b[0m\u001b[0;34m\u001b[0m\u001b[0m\n",
      "\u001b[0;31mTasmanianInputError\u001b[0m: "
     ]
    }
   ],
   "source": [
    "paramL = dict()\n",
    "# Depth of \"Classical\" Sparse grid\n",
    "paramL['iDepth']=1\n",
    "paramL['iOut']=1         # how many outputs\n",
    "paramL['which_basis'] = 1 #linear basis function (2: quadratic local basis)\n",
    "\n",
    "# control of iterations\n",
    "paramL['numstart'] = 0   # which is iteration to start (numstart = 0: start from scratch, number=/0: restart)\n",
    "paramL['numits'] = 10    # which is the iteration to end\n",
    "\n",
    "# How many random points for computing the errors\n",
    "paramL['No_samples'] = 1000\n",
    "\n",
    "### Model Paramters\n",
    "paramL['n_agents']=2  # number of continuous dimensions of the model\n",
    "\n",
    "paramL['beta']=0.8\n",
    "paramL['rho']=0.95\n",
    "paramL['zeta']=0.5\n",
    "paramL['psi']=0.36\n",
    "paramL['gamma']=2.0\n",
    "paramL['delta']=0.025\n",
    "paramL['eta']=1\n",
    "paramL['big_A']=(1.0-paramL['beta'])/(paramL['psi']*paramL['beta'])\n",
    "\n",
    "# Ranges For States\n",
    "paramL['range_cube']=5 # range of [0..1]^d in 1D\n",
    "paramL['k_bar']=0.2\n",
    "paramL['k_up']=3.0\n",
    "\n",
    "# Ranges for Controls\n",
    "paramL['c_bar']=1e-2\n",
    "paramL['c_up']=10000.0\n",
    "\n",
    "paramL['l_bar']=1e-2\n",
    "paramL['l_up']=1.0\n",
    "\n",
    "paramL['inv_bar']=1e-2\n",
    "paramL['inv_up']=10000.0\n",
    "\n",
    "# Stochastic\n",
    "paramL['theta_list'] = [0.90, 0.95, 1.00, 1.05, 1.10]\n",
    "paramL['curr_theta'] = 1.00\n",
    "\n",
    "#======================================================================\n",
    "# terminal value function\n",
    "valList = []\n",
    "if (paramL['numstart']==0):\n",
    "    for state in range(5):\n",
    "        valnew=TasmanianSG.TasmanianSparseGrid()\n",
    "        valnew=interpol.sparse_grid(paramL)\n",
    "        valList.append(valnew)\n",
    "        valnew.write(\"valnew_1.\" + str(paramL['numstart']) +\".s{}\".format(state)+ \".txt\") #write file to disk for restart\n",
    "\n",
    "# value function during iteration\n",
    "else:\n",
    "    for state in range(5):\n",
    "        valnew.read(\"valnew_1.\" + str(paramL['numstart']) +\".s{}\".format(state)+ \".txt\") #write file to disk for restart\n",
    "        valList.append(valnew)\n",
    "        \n",
    "\n",
    "valListold = []\n",
    "for state in range(5):\n",
    "    valold=TasmanianSG.TasmanianSparseGrid()\n",
    "    valold=valList[state]\n",
    "    valListold.append(valold)\n",
    "\n",
    "for i in range(paramL['numstart'], paramL['numits']):\n",
    "    for state in range(5):\n",
    "        paramL['curr_theta'] = paramL['theta_list'][state]\n",
    "        valnew=TasmanianSG.TasmanianSparseGrid()\n",
    "        valnew=interpol_iter.sparse_grid_iter(paramL, valListold)\n",
    "        valList[state] = valnew\n",
    "    for state in range(5):\n",
    "        valold=TasmanianSG.TasmanianSparseGrid()\n",
    "        valold=valList[state]\n",
    "        valListold[state] = valold\n",
    "        valold.write(\"valnew_1.\"+str(i+1)+\".s{}\".format(state)+\".txt\")\n",
    "\n",
    "\n",
    "\n",
    "#======================================================================\n",
    "print( \"===============================================================\")\n",
    "print( \" \" )\n",
    "print( \" Computation of a growth model of dimension \", paramL['n_agents'] ,\" finished after \", paramL['numits'], \" steps\")\n",
    "print( \" \" )\n",
    "print( \"===============================================================\")\n",
    "#======================================================================\n",
    "\n",
    "# compute errors   \n",
    "avg_err=post.ls_error(paramL)\n",
    "\n",
    "#======================================================================\n",
    "print( \"===============================================================\")\n",
    "print( \" \")\n",
    "print( \" Errors are computed -- see errors.txt\")\n",
    "print( \" \")\n",
    "print( \"===============================================================\")\n",
    "#======================================================================"
   ]
  },
  {
   "cell_type": "code",
   "execution_count": 3,
   "metadata": {
    "collapsed": false
   },
   "outputs": [
    {
     "ename": "NameError",
     "evalue": "name 'k_bar' is not defined",
     "output_type": "error",
     "traceback": [
      "\u001b[0;31m---------------------------------------------------------------------------\u001b[0m",
      "\u001b[0;31mNameError\u001b[0m                                 Traceback (most recent call last)",
      "\u001b[0;32m<ipython-input-3-d4a8943f674b>\u001b[0m in \u001b[0;36m<module>\u001b[0;34m()\u001b[0m\n\u001b[1;32m     10\u001b[0m     \u001b[0mnp\u001b[0m\u001b[0;34m.\u001b[0m\u001b[0mrandom\u001b[0m\u001b[0;34m.\u001b[0m\u001b[0mseed\u001b[0m\u001b[0;34m(\u001b[0m\u001b[0;36m0\u001b[0m\u001b[0;34m)\u001b[0m\u001b[0;34m\u001b[0m\u001b[0m\n\u001b[1;32m     11\u001b[0m     \u001b[0munif\u001b[0m\u001b[0;34m=\u001b[0m\u001b[0mnp\u001b[0m\u001b[0;34m.\u001b[0m\u001b[0mrandom\u001b[0m\u001b[0;34m.\u001b[0m\u001b[0mrand\u001b[0m\u001b[0;34m(\u001b[0m\u001b[0mnum_points\u001b[0m\u001b[0;34m,\u001b[0m \u001b[0mn_agents\u001b[0m\u001b[0;34m)\u001b[0m\u001b[0;34m\u001b[0m\u001b[0m\n\u001b[0;32m---> 12\u001b[0;31m     \u001b[0mk_sample\u001b[0m\u001b[0;34m=\u001b[0m\u001b[0mk_bar\u001b[0m\u001b[0;34m+\u001b[0m\u001b[0;34m(\u001b[0m\u001b[0munif\u001b[0m\u001b[0;34m)\u001b[0m\u001b[0;34m*\u001b[0m\u001b[0;34m(\u001b[0m\u001b[0mk_up\u001b[0m\u001b[0;34m-\u001b[0m\u001b[0mk_bar\u001b[0m\u001b[0;34m)\u001b[0m\u001b[0;34m\u001b[0m\u001b[0m\n\u001b[0m\u001b[1;32m     13\u001b[0m     \u001b[0mto_print\u001b[0m\u001b[0;34m=\u001b[0m\u001b[0mnp\u001b[0m\u001b[0;34m.\u001b[0m\u001b[0mempty\u001b[0m\u001b[0;34m(\u001b[0m\u001b[0;34m(\u001b[0m\u001b[0;36m1\u001b[0m\u001b[0;34m,\u001b[0m\u001b[0;36m3\u001b[0m\u001b[0;34m)\u001b[0m\u001b[0;34m)\u001b[0m\u001b[0;34m\u001b[0m\u001b[0m\n\u001b[1;32m     14\u001b[0m \u001b[0;34m\u001b[0m\u001b[0m\n",
      "\u001b[0;31mNameError\u001b[0m: name 'k_bar' is not defined"
     ]
    }
   ],
   "source": [
    "paramL['k_bar']=0.2\n",
    "n_agents = paramL['n_agents']\n",
    "t1 = paramL['numstart']\n",
    "t2 = paramL['numits']\n",
    "num_points = paramL['No_samples']\n",
    "\n",
    "for state in range(5):\n",
    "    file=open('errors.'+'s{}'.format(state)+'.txt', 'w')\n",
    "\n",
    "    np.random.seed(0)\n",
    "    unif=np.random.rand(num_points, n_agents)\n",
    "    k_sample=k_bar+(unif)*(k_up-k_bar)\n",
    "    to_print=np.empty((1,3))\n",
    "\n",
    "    for i in range(t1, t2):\n",
    "        sum_diffs=0\n",
    "        diff = 0\n",
    "\n",
    "        v_prev=TasmanianSG.TasmanianSparseGrid()\n",
    "        v_next=TasmanianSG.TasmanianSparseGrid()\n",
    "\n",
    "        v_prev.read(\"valnew_1.\" + str(i) +'s{}'.format(state)+ \".txt\")\n",
    "        v_next.read(\"valnew_1.\" + str(i+1) +'s{}'.format(state)+ \".txt\")\n",
    "\n",
    "        diff=v_next.evaluateBatch(k_sample) - v_prev.evaluateBatch(k_sample)\n",
    "        max_abs_diff=np.amax(np.fabs(diff))\n",
    "        average = np.average(np.fabs(diff))\n",
    "\n",
    "        to_print[0,0]=i+1\n",
    "        to_print[0,1]=max_abs_diff\n",
    "        to_print[0,2]= average\n",
    "\n",
    "        np.savetxt(file, to_print, fmt='%2.16f')\n",
    "\n",
    "\n",
    "    file.close()\n"
   ]
  },
  {
   "cell_type": "code",
   "execution_count": null,
   "metadata": {
    "collapsed": true
   },
   "outputs": [],
   "source": []
  }
 ],
 "metadata": {
  "kernelspec": {
   "display_name": "Python 2",
   "language": "python",
   "name": "python2"
  }
 },
 "nbformat": 4,
 "nbformat_minor": 2
}
