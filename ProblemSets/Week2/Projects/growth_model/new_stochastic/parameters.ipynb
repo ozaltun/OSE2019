{
 "cells": [
  {
   "cell_type": "code",
   "execution_count": 4,
   "metadata": {
    "collapsed": true
   },
   "outputs": [],
   "source": [
    "# This notebook just shows you how the paramater dictionary is saved as a pickle"
   ]
  },
  {
   "cell_type": "code",
   "execution_count": 2,
   "metadata": {
    "collapsed": false
   },
   "outputs": [],
   "source": [
    "paramL = dict()\n",
    "\n",
    "\n",
    "paramL['iDepth']=1\n",
    "paramL['iOut']=1         # how many outputs\n",
    "paramL['which_basis'] = 1 #linear basis function (2: quadratic local basis)\n",
    "\n",
    "# control of iterations\n",
    "paramL['numstart'] = 0   # which is iteration to start (numstart = 0: start from scratch, number=/0: restart)\n",
    "paramL['numits'] = 5    # which is the iteration to end\n",
    "\n",
    "paramL['No_samples'] = 1000\n",
    "\n",
    "paramL['n_agents']=2  # number of continuous dimensions of the model\n",
    "\n",
    "paramL['beta']=0.8\n",
    "paramL['rho']=0.95\n",
    "paramL['zeta']=0.5\n",
    "paramL['psi']=0.36\n",
    "paramL['gamma']=2.0\n",
    "paramL['delta']=0.025\n",
    "paramL['eta']=1\n",
    "paramL['big_A']=(1.0-paramL['beta'])/(paramL['psi']*paramL['beta'])\n",
    "\n",
    "paramL['range_cube']=5 # range of [0..1]^d in 1D\n",
    "paramL['k_bar']=0.2\n",
    "paramL['k_up']=3.0\n",
    "\n",
    "# Ranges for Controls\n",
    "paramL['c_bar']=1e-2\n",
    "paramL['c_up']=10000.0\n",
    "\n",
    "paramL['l_bar']=1e-2\n",
    "paramL['l_up']=1.0\n",
    "\n",
    "paramL['inv_bar']=1e-2\n",
    "paramL['inv_up']=10000.0\n",
    "\n",
    "paramL['theta_list'] = [0.9, 0.95, 1.00, 1.05, 1.10]\n",
    "paramL['curr_theta'] = 1.00"
   ]
  },
  {
   "cell_type": "code",
   "execution_count": 3,
   "metadata": {
    "collapsed": true
   },
   "outputs": [],
   "source": [
    "import pickle\n",
    "\n",
    "with open('parameters.pickle', 'wb') as handle:\n",
    "    pickle.dump(paramL, handle, protocol=pickle.HIGHEST_PROTOCOL)"
   ]
  },
  {
   "cell_type": "code",
   "execution_count": 5,
   "metadata": {
    "collapsed": true
   },
   "outputs": [],
   "source": [
    "import pickle\n",
    "\n",
    "\n",
    "\n",
    "with open('parameters.pickle', 'rb') as handle:\n",
    "    paramL = pickle.load(handle)\n",
    "\n"
   ]
  },
  {
   "cell_type": "code",
   "execution_count": 8,
   "metadata": {
    "collapsed": false
   },
   "outputs": [
    {
     "data": {
      "text/plain": [
       "int"
      ]
     },
     "execution_count": 8,
     "metadata": {},
     "output_type": "execute_result"
    }
   ],
   "source": [
    "type(paramL['No_samples'])"
   ]
  },
  {
   "cell_type": "code",
   "execution_count": null,
   "metadata": {
    "collapsed": true
   },
   "outputs": [],
   "source": []
  }
 ],
 "metadata": {
  "kernelspec": {
   "display_name": "Python 2",
   "language": "python",
   "name": "python2"
  },
  "language_info": {
   "codemirror_mode": {
    "name": "ipython",
    "version": 2
   },
   "file_extension": ".py",
   "mimetype": "text/x-python",
   "name": "python",
   "nbconvert_exporter": "python",
   "pygments_lexer": "ipython2",
   "version": "2.7.12"
  }
 },
 "nbformat": 4,
 "nbformat_minor": 2
}
