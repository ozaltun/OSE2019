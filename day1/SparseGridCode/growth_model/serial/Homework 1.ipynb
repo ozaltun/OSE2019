{
 "cells": [
  {
   "cell_type": "code",
   "execution_count": 2,
   "metadata": {
    "collapsed": false
   },
   "outputs": [],
   "source": [
    "import numpy as np"
   ]
  },
  {
   "cell_type": "code",
   "execution_count": 8,
   "metadata": {
    "collapsed": false
   },
   "outputs": [
    {
     "name": "stdout",
     "output_type": "stream",
     "text": [
      "0\n",
      "3\n",
      "1\n",
      "2\n",
      "3\n",
      "4\n",
      "3\n",
      "0\n",
      "3\n",
      "4\n",
      "4\n",
      "2\n",
      "0\n",
      "4\n",
      "1\n",
      "3\n",
      "2\n",
      "4\n",
      "1\n",
      "0\n",
      "2\n",
      "2\n",
      "3\n",
      "1\n",
      "2\n",
      "2\n",
      "1\n",
      "0\n",
      "2\n",
      "1\n",
      "3\n",
      "3\n",
      "4\n",
      "2\n",
      "1\n",
      "1\n",
      "4\n",
      "4\n",
      "3\n",
      "2\n",
      "1\n",
      "1\n",
      "3\n",
      "2\n",
      "2\n",
      "0\n",
      "3\n",
      "4\n",
      "4\n",
      "0\n",
      "1\n",
      "1\n",
      "4\n",
      "4\n",
      "3\n",
      "3\n",
      "4\n",
      "1\n",
      "1\n",
      "0\n",
      "4\n",
      "4\n",
      "4\n",
      "1\n",
      "1\n",
      "0\n",
      "3\n",
      "0\n",
      "4\n",
      "3\n",
      "3\n",
      "4\n",
      "0\n",
      "3\n",
      "4\n",
      "2\n",
      "1\n",
      "4\n",
      "4\n",
      "2\n",
      "0\n",
      "0\n",
      "2\n",
      "0\n",
      "3\n",
      "0\n",
      "1\n",
      "4\n",
      "2\n",
      "4\n",
      "4\n",
      "1\n",
      "3\n",
      "3\n",
      "3\n",
      "2\n",
      "3\n",
      "1\n",
      "4\n",
      "3\n"
     ]
    }
   ],
   "source": [
    "for i in range(100):\n",
    "    print()"
   ]
  },
  {
   "cell_type": "code",
   "execution_count": null,
   "metadata": {
    "collapsed": true
   },
   "outputs": [],
   "source": []
  }
 ],
 "metadata": {
  "kernelspec": {
   "display_name": "Python 2",
   "language": "python",
   "name": "python2"
  },
  "language_info": {
   "codemirror_mode": {
    "name": "ipython",
    "version": 2
   },
   "file_extension": ".py",
   "mimetype": "text/x-python",
   "name": "python",
   "nbconvert_exporter": "python",
   "pygments_lexer": "ipython2",
   "version": "2.7.12"
  }
 },
 "nbformat": 4,
 "nbformat_minor": 2
}
