{
 "cells": [
  {
   "cell_type": "code",
   "execution_count": null,
   "metadata": {
    "collapsed": true
   },
   "outputs": [],
   "source": [
    "import TasmanianSG\n",
    "\n",
    "import math\n",
    "from random import uniform\n",
    "from datetime import datetime\n",
    "import numpy as np"
   ]
  },
  {
   "cell_type": "code",
   "execution_count": 12,
   "metadata": {
    "collapsed": true
   },
   "outputs": [],
   "source": [
    "\n",
    "## Oscillatory\n",
    "def f_1(x, w, c):\n",
    "    return np.cos(2*np.pi*w[0]+np.dot(x, c))\n",
    "\n",
    "## Product Peak\n",
    "def f_2(x, w, c):\n",
    "    output_vector = (c**(-2) +(x - w)**2)**(-1)\n",
    "    return np.prod(output_vector)\n",
    "\n",
    "## Corner Peak\n",
    "def f_3(x, w, c):\n",
    "    d = x.shape[0]\n",
    "    return (1+np.dot(x, c))**(-d-1)\n",
    "\n",
    "## Gaussian\n",
    "def f_4(x, w, c, t=1):\n",
    "    return np.exp(t*(c**2 * (x - w)**2).sum())\n",
    "\n",
    "## Continous\n",
    "def f_5(x, w, c):\n",
    "    return np.exp(-(c*np.abs(x-w)).sum())\n",
    "\n",
    "## Discontinuous\n",
    "def f_6(x, w, c):\n",
    "    if x[0] > w[0] or x[1] > w[1]:\n",
    "        return 0\n",
    "    else:\n",
    "        return np.exp(np.dot(c, x))"
   ]
  },
  {
   "cell_type": "code",
   "execution_count": 10,
   "metadata": {
    "collapsed": false
   },
   "outputs": [],
   "source": [
    "def main():\n",
    "    print(\"TasmanianSG version: {0:s}\".format(TasmanianSG.__version__))\n",
    "    print(\"TasmanianSG license: {0:s}\".format(TasmanianSG.__license__))\n",
    "\n",
    "    grid  = TasmanianSG.TasmanianSparseGrid()\n",
    "    grid1 = TasmanianSG.TasmanianSparseGrid()\n",
    "    grid2 = TasmanianSG.TasmanianSparseGrid()\n",
    "\n",
    "    #############################################################################\n",
    "\n",
    "    # EXAMPLE 1 for OSM:\n",
    "    # interpolate: f(x,y) = cos(0.5 * pi * x) * cos(0.5 * pi * y)\n",
    "    # using piecewise linear basis functions.\n",
    "\n",
    "    # 1000 3-dimensional sample points \n",
    "    d = 10\n",
    "    w = uniform(0.01, 2.01, 10)\n",
    "    c = uniform(-1.0, 1.0, 10)\n",
    "    \n",
    "    aPnts = np.empty([1000, d])  \n",
    "    for iI in range(1000):\n",
    "        aPnts[iI][:] = uniform(-1.0, 1.0, 10)\n",
    "    \n",
    "    # Result\n",
    "    aTres = np.empty([1000,])\n",
    "    \n",
    "    for iI in range(1000):\n",
    "        aTres[iI] = f_1(aPnts[iI][:], w, c)\n",
    "\n",
    "    # Sparse Grid with dimension 2 and 1 output and refinement level 5\n",
    "    iDim = d\n",
    "    iOut = 1\n",
    "    iDepth = 5\n",
    "    which_basis = 1 #1= linear basis functions -> Check the manual for other options\n",
    "\n",
    "    print(\"\\n-------------------------------------------------------------------------------------------------\")\n",
    "    print(\"Example 1 for OSM: interpolate f(x,y) = cos(0.5 * pi * x) * cos(0.5 * pi * y)\")\n",
    "    print(\"       using fixed sparse grid with depth {0:1d}\".format(iDepth))\n",
    "    print(\"       the error is estimated as the maximum from 1000 random points\\n\")\n",
    "\n",
    "    # construct sparse grid\n",
    "    grid.makeLocalPolynomialGrid(iDim, iOut, iDepth, which_basis, \"localp\")\n",
    "    aPoints = grid.getPoints()\n",
    "    iNumP1 = aPoints.shape[0]\n",
    "    aVals = np.empty([aPoints.shape[0], 1])\n",
    "    for iI in range(aPoints.shape[0]):\n",
    "        aVals[iI] = math.cos(0.5 * math.pi * aPoints[iI][0]) * math.cos(0.5 * math.pi * aPoints[iI][1])\n",
    "    grid.loadNeededPoints(aVals)\n",
    "\n",
    "    # compute the error\n",
    "    aRes = grid.evaluateBatch(aPnts)\n",
    "    fError1 = max(np.fabs(aRes[:,0] - aTres))\n",
    "    print(\" For localp    Number of points: {0:1d}   Max. Error: {1:1.16e}\".format(iNumP1, fError1))\n",
    "\n",
    "    # write coordinates of grid to a text file\n",
    "    f=open(\"fix_sparse_grid.txt\", 'a')\n",
    "    np.savetxt(f, aPoints, fmt='% 2.16f')\n",
    "    f.close()\n",
    "\n",
    "    #############################################################################\n",
    "\n",
    "    ## EXAMPLE 2 for OSM:\n",
    "    ## interpolate: f(x,y) = exp(-x) / (1 + 100 * exp(-10 * y))\n",
    "    ## using refinement\n",
    "\n",
    "    aTres = np.empty([1000,])\n",
    "    \n",
    "    for iI in range(1000):\n",
    "        aTres[iI] = f_1(aPnts[iI][:], w, c)\n",
    "        \n",
    "    # Adaptive Sparse Grid with dimension 2 and 1 output and maximum refinement level 5, refinement criterion.\n",
    "    iDim = d\n",
    "    iOut = 1\n",
    "    iDepth = 1\n",
    "    fTol = 1.E-5\n",
    "    which_basis = 1 \n",
    "    refinement_level = 5\n",
    "\n",
    "    # level of grid before refinement\n",
    "    grid1.makeLocalPolynomialGrid(iDim, iOut, iDepth, which_basis, \"localp\")\n",
    "\n",
    "    aPoints = grid1.getPoints()\n",
    "    aVals = np.empty([aPoints.shape[0], 1])\n",
    "    for iI in range(aPoints.shape[0]):\n",
    "        aVals[iI] = f_1(aPnts[iI][:], w, c)\n",
    "    grid1.loadNeededPoints(aVals)\n",
    "\n",
    "    print(\"\\n-------------------------------------------------------------------------------------------------\")\n",
    "    print(\"Example 2: interpolate f(x,y) = cos(0.5 * pi * x) * cos(0.5 * pi * y)\")\n",
    "    print(\"   the error is estimated as the maximum from 1000 random points\")\n",
    "    print(\"   tolerance is set at 1.E-5 and piecewise linear basis functions are used\\n\")\n",
    "\n",
    "    print(\"               Classic refinement \")\n",
    "    print(\" refinement level         points     error   \")\n",
    "\n",
    "    #refinement level\n",
    "    for iK in range(refinement_level):\n",
    "        grid1.setSurplusRefinement(fTol, 1, \"fds\")   #also use fds, or other rules\n",
    "        aPoints = grid1.getNeededPoints()\n",
    "        aVals = np.empty([aPoints.shape[0], 1])\n",
    "        for iI in range(aPoints.shape[0]):\n",
    "            aVals[iI] = math.cos(0.5 * math.pi * aPoints[iI][0]) * math.cos(0.5 * math.pi * aPoints[iI][1])\n",
    "        grid1.loadNeededPoints(aVals)\n",
    "\n",
    "        aRes = grid1.evaluateBatch(aPnts)\n",
    "        fError1 = max(np.fabs(aRes[:,0] - aTres))\n",
    "\n",
    "        print(\" {0:9d} {1:9d}  {2:1.2e}\".format(iK+1, grid1.getNumPoints(), fError1))\n",
    "\n",
    "    # write coordinates of grid to a text file\n",
    "    f2=open(\"Adaptive_sparse_grid.txt\", 'a')\n",
    "    np.savetxt(f2, aPoints, fmt='% 2.16f')\n",
    "    f2.close()\n",
    "\n",
    "    grid2 = TasmanianSG.TasmanianSparseGrid()\n",
    "    grid2.makeLocalPolynomialGrid(iDim, iOut, refinement_level+iDepth, which_basis, \"localp\")\n",
    "    a = grid2.getNumPoints()\n",
    "\n",
    "    print(\"\\n-------------------------------------------------------------------------------------------------\")\n",
    "    print (\"   a fix sparse grid of level \", refinement_level+iDepth, \" would consist of \" ,a, \" points\")\n",
    "    print(\"\\n-------------------------------------------------------------------------------------------------\\n\")    \n",
    "\n",
    "\n"
   ]
  },
  {
   "cell_type": "code",
   "execution_count": 11,
   "metadata": {
    "collapsed": false
   },
   "outputs": [
    {
     "ename": "NameError",
     "evalue": "global name 'TasmanianSG' is not defined",
     "output_type": "error",
     "traceback": [
      "\u001b[0;31m---------------------------------------------------------------------------\u001b[0m",
      "\u001b[0;31mNameError\u001b[0m                                 Traceback (most recent call last)",
      "\u001b[0;32m<ipython-input-11-58ca95c5b364>\u001b[0m in \u001b[0;36m<module>\u001b[0;34m()\u001b[0m\n\u001b[0;32m----> 1\u001b[0;31m \u001b[0mmain\u001b[0m\u001b[0;34m(\u001b[0m\u001b[0;34m)\u001b[0m\u001b[0;34m\u001b[0m\u001b[0m\n\u001b[0m",
      "\u001b[0;32m<ipython-input-10-167d569835ab>\u001b[0m in \u001b[0;36mmain\u001b[0;34m()\u001b[0m\n\u001b[1;32m      1\u001b[0m \u001b[0;32mdef\u001b[0m \u001b[0mmain\u001b[0m\u001b[0;34m(\u001b[0m\u001b[0;34m)\u001b[0m\u001b[0;34m:\u001b[0m\u001b[0;34m\u001b[0m\u001b[0m\n\u001b[0;32m----> 2\u001b[0;31m     \u001b[0;32mprint\u001b[0m\u001b[0;34m(\u001b[0m\u001b[0;34m\"TasmanianSG version: {0:s}\"\u001b[0m\u001b[0;34m.\u001b[0m\u001b[0mformat\u001b[0m\u001b[0;34m(\u001b[0m\u001b[0mTasmanianSG\u001b[0m\u001b[0;34m.\u001b[0m\u001b[0m__version__\u001b[0m\u001b[0;34m)\u001b[0m\u001b[0;34m)\u001b[0m\u001b[0;34m\u001b[0m\u001b[0m\n\u001b[0m\u001b[1;32m      3\u001b[0m     \u001b[0;32mprint\u001b[0m\u001b[0;34m(\u001b[0m\u001b[0;34m\"TasmanianSG license: {0:s}\"\u001b[0m\u001b[0;34m.\u001b[0m\u001b[0mformat\u001b[0m\u001b[0;34m(\u001b[0m\u001b[0mTasmanianSG\u001b[0m\u001b[0;34m.\u001b[0m\u001b[0m__license__\u001b[0m\u001b[0;34m)\u001b[0m\u001b[0;34m)\u001b[0m\u001b[0;34m\u001b[0m\u001b[0m\n\u001b[1;32m      4\u001b[0m \u001b[0;34m\u001b[0m\u001b[0m\n\u001b[1;32m      5\u001b[0m     \u001b[0mgrid\u001b[0m  \u001b[0;34m=\u001b[0m \u001b[0mTasmanianSG\u001b[0m\u001b[0;34m.\u001b[0m\u001b[0mTasmanianSparseGrid\u001b[0m\u001b[0;34m(\u001b[0m\u001b[0;34m)\u001b[0m\u001b[0;34m\u001b[0m\u001b[0m\n",
      "\u001b[0;31mNameError\u001b[0m: global name 'TasmanianSG' is not defined"
     ]
    }
   ],
   "source": [
    "main()"
   ]
  },
  {
   "cell_type": "code",
   "execution_count": 9,
   "metadata": {
    "collapsed": false
   },
   "outputs": [
    {
     "data": {
      "text/plain": [
       "(10,)"
      ]
     },
     "execution_count": 9,
     "metadata": {},
     "output_type": "execute_result"
    }
   ],
   "source": []
  },
  {
   "cell_type": "code",
   "execution_count": null,
   "metadata": {
    "collapsed": true
   },
   "outputs": [],
   "source": []
  }
 ],
 "metadata": {
  "kernelspec": {
   "display_name": "Python 2",
   "language": "python",
   "name": "python2"
  },
  "language_info": {
   "codemirror_mode": {
    "name": "ipython",
    "version": 2
   },
   "file_extension": ".py",
   "mimetype": "text/x-python",
   "name": "python",
   "nbconvert_exporter": "python",
   "pygments_lexer": "ipython2",
   "version": "2.7.12"
  }
 },
 "nbformat": 4,
 "nbformat_minor": 2
}
